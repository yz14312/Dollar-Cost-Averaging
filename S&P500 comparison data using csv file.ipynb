{
 "cells": [
  {
   "cell_type": "code",
   "execution_count": 1,
   "metadata": {},
   "outputs": [],
   "source": [
    "import pandas as pd\n",
    "import numpy as np\n",
    "import matplotlib.pyplot as plt\n",
    "import matplotlib.dates as mdates\n",
    "from pandas_datareader import data as wb\n",
    "import datetime\n",
    "import seaborn as sns\n",
    "sns.set()"
   ]
  },
  {
   "cell_type": "code",
   "execution_count": 2,
   "metadata": {},
   "outputs": [
    {
     "data": {
      "text/html": [
       "<div>\n",
       "<style scoped>\n",
       "    .dataframe tbody tr th:only-of-type {\n",
       "        vertical-align: middle;\n",
       "    }\n",
       "\n",
       "    .dataframe tbody tr th {\n",
       "        vertical-align: top;\n",
       "    }\n",
       "\n",
       "    .dataframe thead th {\n",
       "        text-align: right;\n",
       "    }\n",
       "</style>\n",
       "<table border=\"1\" class=\"dataframe\">\n",
       "  <thead>\n",
       "    <tr style=\"text-align: right;\">\n",
       "      <th></th>\n",
       "      <th>Date</th>\n",
       "      <th>Price</th>\n",
       "      <th>Monthly Return (%)</th>\n",
       "      <th>Total Investment (£)</th>\n",
       "    </tr>\n",
       "  </thead>\n",
       "  <tbody>\n",
       "    <tr>\n",
       "      <th>0</th>\n",
       "      <td>31/01/1990</td>\n",
       "      <td>329.08</td>\n",
       "      <td>-12.52</td>\n",
       "      <td>437.40</td>\n",
       "    </tr>\n",
       "    <tr>\n",
       "      <th>1</th>\n",
       "      <td>02/03/1990</td>\n",
       "      <td>335.54</td>\n",
       "      <td>2.85</td>\n",
       "      <td>964.12</td>\n",
       "    </tr>\n",
       "    <tr>\n",
       "      <th>2</th>\n",
       "      <td>01/04/1990</td>\n",
       "      <td>339.94</td>\n",
       "      <td>2.03</td>\n",
       "      <td>1493.84</td>\n",
       "    </tr>\n",
       "    <tr>\n",
       "      <th>3</th>\n",
       "      <td>01/05/1990</td>\n",
       "      <td>332.25</td>\n",
       "      <td>-2.81</td>\n",
       "      <td>1937.81</td>\n",
       "    </tr>\n",
       "    <tr>\n",
       "      <th>4</th>\n",
       "      <td>31/05/1990</td>\n",
       "      <td>361.23</td>\n",
       "      <td>12.04</td>\n",
       "      <td>2731.32</td>\n",
       "    </tr>\n",
       "    <tr>\n",
       "      <th>...</th>\n",
       "      <td>...</td>\n",
       "      <td>...</td>\n",
       "      <td>...</td>\n",
       "      <td>...</td>\n",
       "    </tr>\n",
       "    <tr>\n",
       "      <th>373</th>\n",
       "      <td>20/09/2020</td>\n",
       "      <td>3319.47</td>\n",
       "      <td>-3.35</td>\n",
       "      <td>932664.79</td>\n",
       "    </tr>\n",
       "    <tr>\n",
       "      <th>374</th>\n",
       "      <td>20/10/2020</td>\n",
       "      <td>3443.12</td>\n",
       "      <td>7.10</td>\n",
       "      <td>999419.49</td>\n",
       "    </tr>\n",
       "    <tr>\n",
       "      <th>375</th>\n",
       "      <td>19/11/2020</td>\n",
       "      <td>3581.87</td>\n",
       "      <td>5.66</td>\n",
       "      <td>1056514.93</td>\n",
       "    </tr>\n",
       "    <tr>\n",
       "      <th>376</th>\n",
       "      <td>19/12/2020</td>\n",
       "      <td>3709.41</td>\n",
       "      <td>5.31</td>\n",
       "      <td>1113142.42</td>\n",
       "    </tr>\n",
       "    <tr>\n",
       "      <th>377</th>\n",
       "      <td>18/01/2021</td>\n",
       "      <td>3768.25</td>\n",
       "      <td>3.54</td>\n",
       "      <td>1153065.36</td>\n",
       "    </tr>\n",
       "  </tbody>\n",
       "</table>\n",
       "<p>378 rows × 4 columns</p>\n",
       "</div>"
      ],
      "text/plain": [
       "           Date    Price  Monthly Return (%)  Total Investment (£)\n",
       "0    31/01/1990   329.08              -12.52                437.40\n",
       "1    02/03/1990   335.54                2.85                964.12\n",
       "2    01/04/1990   339.94                2.03               1493.84\n",
       "3    01/05/1990   332.25               -2.81               1937.81\n",
       "4    31/05/1990   361.23               12.04               2731.32\n",
       "..          ...      ...                 ...                   ...\n",
       "373  20/09/2020  3319.47               -3.35             932664.79\n",
       "374  20/10/2020  3443.12                7.10             999419.49\n",
       "375  19/11/2020  3581.87                5.66            1056514.93\n",
       "376  19/12/2020  3709.41                5.31            1113142.42\n",
       "377  18/01/2021  3768.25                3.54            1153065.36\n",
       "\n",
       "[378 rows x 4 columns]"
      ]
     },
     "execution_count": 2,
     "metadata": {},
     "output_type": "execute_result"
    }
   ],
   "source": [
    "monthly_return = pd.read_csv(\"F:/Data Science practice/Blog/Beginner's guide Series/Investment strategy/Historical Return.csv\")\n",
    "\n",
    "monthly_return"
   ]
  },
  {
   "cell_type": "code",
   "execution_count": 3,
   "metadata": {},
   "outputs": [
    {
     "data": {
      "text/html": [
       "<div>\n",
       "<style scoped>\n",
       "    .dataframe tbody tr th:only-of-type {\n",
       "        vertical-align: middle;\n",
       "    }\n",
       "\n",
       "    .dataframe tbody tr th {\n",
       "        vertical-align: top;\n",
       "    }\n",
       "\n",
       "    .dataframe thead th {\n",
       "        text-align: right;\n",
       "    }\n",
       "</style>\n",
       "<table border=\"1\" class=\"dataframe\">\n",
       "  <thead>\n",
       "    <tr style=\"text-align: right;\">\n",
       "      <th></th>\n",
       "      <th>Date</th>\n",
       "      <th>Price</th>\n",
       "      <th>Monthly Return (%)</th>\n",
       "      <th>Total Investment (£)</th>\n",
       "    </tr>\n",
       "  </thead>\n",
       "  <tbody>\n",
       "    <tr>\n",
       "      <th>0</th>\n",
       "      <td>1990-01-31</td>\n",
       "      <td>329.08</td>\n",
       "      <td>-12.52</td>\n",
       "      <td>437.40</td>\n",
       "    </tr>\n",
       "    <tr>\n",
       "      <th>1</th>\n",
       "      <td>1990-02-03</td>\n",
       "      <td>335.54</td>\n",
       "      <td>2.85</td>\n",
       "      <td>964.12</td>\n",
       "    </tr>\n",
       "    <tr>\n",
       "      <th>2</th>\n",
       "      <td>1990-01-04</td>\n",
       "      <td>339.94</td>\n",
       "      <td>2.03</td>\n",
       "      <td>1493.84</td>\n",
       "    </tr>\n",
       "    <tr>\n",
       "      <th>3</th>\n",
       "      <td>1990-01-05</td>\n",
       "      <td>332.25</td>\n",
       "      <td>-2.81</td>\n",
       "      <td>1937.81</td>\n",
       "    </tr>\n",
       "    <tr>\n",
       "      <th>4</th>\n",
       "      <td>1990-05-31</td>\n",
       "      <td>361.23</td>\n",
       "      <td>12.04</td>\n",
       "      <td>2731.32</td>\n",
       "    </tr>\n",
       "    <tr>\n",
       "      <th>...</th>\n",
       "      <td>...</td>\n",
       "      <td>...</td>\n",
       "      <td>...</td>\n",
       "      <td>...</td>\n",
       "    </tr>\n",
       "    <tr>\n",
       "      <th>373</th>\n",
       "      <td>2020-09-20</td>\n",
       "      <td>3319.47</td>\n",
       "      <td>-3.35</td>\n",
       "      <td>932664.79</td>\n",
       "    </tr>\n",
       "    <tr>\n",
       "      <th>374</th>\n",
       "      <td>2020-10-20</td>\n",
       "      <td>3443.12</td>\n",
       "      <td>7.10</td>\n",
       "      <td>999419.49</td>\n",
       "    </tr>\n",
       "    <tr>\n",
       "      <th>375</th>\n",
       "      <td>2020-11-19</td>\n",
       "      <td>3581.87</td>\n",
       "      <td>5.66</td>\n",
       "      <td>1056514.93</td>\n",
       "    </tr>\n",
       "    <tr>\n",
       "      <th>376</th>\n",
       "      <td>2020-12-19</td>\n",
       "      <td>3709.41</td>\n",
       "      <td>5.31</td>\n",
       "      <td>1113142.42</td>\n",
       "    </tr>\n",
       "    <tr>\n",
       "      <th>377</th>\n",
       "      <td>2021-01-18</td>\n",
       "      <td>3768.25</td>\n",
       "      <td>3.54</td>\n",
       "      <td>1153065.36</td>\n",
       "    </tr>\n",
       "  </tbody>\n",
       "</table>\n",
       "<p>378 rows × 4 columns</p>\n",
       "</div>"
      ],
      "text/plain": [
       "          Date    Price  Monthly Return (%)  Total Investment (£)\n",
       "0   1990-01-31   329.08              -12.52                437.40\n",
       "1   1990-02-03   335.54                2.85                964.12\n",
       "2   1990-01-04   339.94                2.03               1493.84\n",
       "3   1990-01-05   332.25               -2.81               1937.81\n",
       "4   1990-05-31   361.23               12.04               2731.32\n",
       "..         ...      ...                 ...                   ...\n",
       "373 2020-09-20  3319.47               -3.35             932664.79\n",
       "374 2020-10-20  3443.12                7.10             999419.49\n",
       "375 2020-11-19  3581.87                5.66            1056514.93\n",
       "376 2020-12-19  3709.41                5.31            1113142.42\n",
       "377 2021-01-18  3768.25                3.54            1153065.36\n",
       "\n",
       "[378 rows x 4 columns]"
      ]
     },
     "execution_count": 3,
     "metadata": {},
     "output_type": "execute_result"
    }
   ],
   "source": [
    "#change the dates in strings to datetime, so the graphs change scale accordingly\n",
    "monthly_return[\"Date\"]  = pd.to_datetime(monthly_return[\"Date\"])\n",
    "\n",
    "monthly_return"
   ]
  },
  {
   "cell_type": "markdown",
   "metadata": {},
   "source": [
    "### Now work out if we invest perfectly (sell at the peak and buy at the lows)"
   ]
  },
  {
   "cell_type": "code",
   "execution_count": 4,
   "metadata": {},
   "outputs": [
    {
     "data": {
      "text/html": [
       "<div>\n",
       "<style scoped>\n",
       "    .dataframe tbody tr th:only-of-type {\n",
       "        vertical-align: middle;\n",
       "    }\n",
       "\n",
       "    .dataframe tbody tr th {\n",
       "        vertical-align: top;\n",
       "    }\n",
       "\n",
       "    .dataframe thead th {\n",
       "        text-align: right;\n",
       "    }\n",
       "</style>\n",
       "<table border=\"1\" class=\"dataframe\">\n",
       "  <thead>\n",
       "    <tr style=\"text-align: right;\">\n",
       "      <th></th>\n",
       "      <th>Date</th>\n",
       "      <th>^GSPC</th>\n",
       "    </tr>\n",
       "  </thead>\n",
       "  <tbody>\n",
       "    <tr>\n",
       "      <th>0</th>\n",
       "      <td>1990-01-02</td>\n",
       "      <td>359.690002</td>\n",
       "    </tr>\n",
       "    <tr>\n",
       "      <th>1</th>\n",
       "      <td>1990-01-03</td>\n",
       "      <td>358.760010</td>\n",
       "    </tr>\n",
       "    <tr>\n",
       "      <th>2</th>\n",
       "      <td>1990-01-04</td>\n",
       "      <td>355.670013</td>\n",
       "    </tr>\n",
       "    <tr>\n",
       "      <th>3</th>\n",
       "      <td>1990-01-05</td>\n",
       "      <td>352.200012</td>\n",
       "    </tr>\n",
       "    <tr>\n",
       "      <th>4</th>\n",
       "      <td>1990-01-08</td>\n",
       "      <td>353.790009</td>\n",
       "    </tr>\n",
       "    <tr>\n",
       "      <th>...</th>\n",
       "      <td>...</td>\n",
       "      <td>...</td>\n",
       "    </tr>\n",
       "    <tr>\n",
       "      <th>7819</th>\n",
       "      <td>2021-01-13</td>\n",
       "      <td>3809.840088</td>\n",
       "    </tr>\n",
       "    <tr>\n",
       "      <th>7820</th>\n",
       "      <td>2021-01-14</td>\n",
       "      <td>3795.540039</td>\n",
       "    </tr>\n",
       "    <tr>\n",
       "      <th>7821</th>\n",
       "      <td>2021-01-15</td>\n",
       "      <td>3768.250000</td>\n",
       "    </tr>\n",
       "    <tr>\n",
       "      <th>7822</th>\n",
       "      <td>2021-01-19</td>\n",
       "      <td>3798.909912</td>\n",
       "    </tr>\n",
       "    <tr>\n",
       "      <th>7823</th>\n",
       "      <td>2021-01-20</td>\n",
       "      <td>3851.850098</td>\n",
       "    </tr>\n",
       "  </tbody>\n",
       "</table>\n",
       "<p>7824 rows × 2 columns</p>\n",
       "</div>"
      ],
      "text/plain": [
       "           Date        ^GSPC\n",
       "0    1990-01-02   359.690002\n",
       "1    1990-01-03   358.760010\n",
       "2    1990-01-04   355.670013\n",
       "3    1990-01-05   352.200012\n",
       "4    1990-01-08   353.790009\n",
       "...         ...          ...\n",
       "7819 2021-01-13  3809.840088\n",
       "7820 2021-01-14  3795.540039\n",
       "7821 2021-01-15  3768.250000\n",
       "7822 2021-01-19  3798.909912\n",
       "7823 2021-01-20  3851.850098\n",
       "\n",
       "[7824 rows x 2 columns]"
      ]
     },
     "execution_count": 4,
     "metadata": {},
     "output_type": "execute_result"
    }
   ],
   "source": [
    "ticker = [\"^GSPC\"]\n",
    "hist_stockprice = pd.DataFrame()\n",
    "\n",
    "#identify the lowest stock prices in the duration\n",
    "start_date = datetime.date(1990,1,1)\n",
    "end_date = datetime.date(2021,1,20)\n",
    "\n",
    "\n",
    "hist_stockprice[ticker] = wb.DataReader(ticker, data_source = \"yahoo\", start = start_date, end = end_date)[\"Adj Close\"]\n",
    "\n",
    "hist_stockprice = hist_stockprice.reset_index()\n",
    "\n",
    "hist_stockprice"
   ]
  },
  {
   "cell_type": "code",
   "execution_count": 5,
   "metadata": {},
   "outputs": [
    {
     "data": {
      "image/png": "[encoded data removed]",
      "text/plain": [
       "<Figure size 432x288 with 1 Axes>"
      ]
     },
     "metadata": {},
     "output_type": "display_data"
    }
   ],
   "source": [
    "plt.plot(hist_stockprice[\"Date\"], hist_stockprice[\"^GSPC\"])\n",
    "plt.show()"
   ]
  },
  {
   "cell_type": "code",
   "execution_count": 6,
   "metadata": {},
   "outputs": [
    {
     "data": {
      "text/html": [
       "<div>\n",
       "<style scoped>\n",
       "    .dataframe tbody tr th:only-of-type {\n",
       "        vertical-align: middle;\n",
       "    }\n",
       "\n",
       "    .dataframe tbody tr th {\n",
       "        vertical-align: top;\n",
       "    }\n",
       "\n",
       "    .dataframe thead th {\n",
       "        text-align: right;\n",
       "    }\n",
       "</style>\n",
       "<table border=\"1\" class=\"dataframe\">\n",
       "  <thead>\n",
       "    <tr style=\"text-align: right;\">\n",
       "      <th></th>\n",
       "      <th>Date</th>\n",
       "      <th>^GSPC</th>\n",
       "    </tr>\n",
       "  </thead>\n",
       "  <tbody>\n",
       "    <tr>\n",
       "      <th>0</th>\n",
       "      <td>2000-01-03</td>\n",
       "      <td>1455.219971</td>\n",
       "    </tr>\n",
       "    <tr>\n",
       "      <th>1</th>\n",
       "      <td>2000-01-04</td>\n",
       "      <td>1399.420044</td>\n",
       "    </tr>\n",
       "    <tr>\n",
       "      <th>2</th>\n",
       "      <td>2000-01-05</td>\n",
       "      <td>1402.109985</td>\n",
       "    </tr>\n",
       "    <tr>\n",
       "      <th>3</th>\n",
       "      <td>2000-01-06</td>\n",
       "      <td>1403.449951</td>\n",
       "    </tr>\n",
       "    <tr>\n",
       "      <th>4</th>\n",
       "      <td>2000-01-07</td>\n",
       "      <td>1441.469971</td>\n",
       "    </tr>\n",
       "    <tr>\n",
       "      <th>...</th>\n",
       "      <td>...</td>\n",
       "      <td>...</td>\n",
       "    </tr>\n",
       "    <tr>\n",
       "      <th>999</th>\n",
       "      <td>2003-12-24</td>\n",
       "      <td>1094.040039</td>\n",
       "    </tr>\n",
       "    <tr>\n",
       "      <th>1000</th>\n",
       "      <td>2003-12-26</td>\n",
       "      <td>1095.890015</td>\n",
       "    </tr>\n",
       "    <tr>\n",
       "      <th>1001</th>\n",
       "      <td>2003-12-29</td>\n",
       "      <td>1109.479980</td>\n",
       "    </tr>\n",
       "    <tr>\n",
       "      <th>1002</th>\n",
       "      <td>2003-12-30</td>\n",
       "      <td>1109.640015</td>\n",
       "    </tr>\n",
       "    <tr>\n",
       "      <th>1003</th>\n",
       "      <td>2003-12-31</td>\n",
       "      <td>1111.920044</td>\n",
       "    </tr>\n",
       "  </tbody>\n",
       "</table>\n",
       "<p>1004 rows × 2 columns</p>\n",
       "</div>"
      ],
      "text/plain": [
       "           Date        ^GSPC\n",
       "0    2000-01-03  1455.219971\n",
       "1    2000-01-04  1399.420044\n",
       "2    2000-01-05  1402.109985\n",
       "3    2000-01-06  1403.449951\n",
       "4    2000-01-07  1441.469971\n",
       "...         ...          ...\n",
       "999  2003-12-24  1094.040039\n",
       "1000 2003-12-26  1095.890015\n",
       "1001 2003-12-29  1109.479980\n",
       "1002 2003-12-30  1109.640015\n",
       "1003 2003-12-31  1111.920044\n",
       "\n",
       "[1004 rows x 2 columns]"
      ]
     },
     "execution_count": 6,
     "metadata": {},
     "output_type": "execute_result"
    }
   ],
   "source": [
    "start_date = datetime.date(2000,1,1)\n",
    "end_date = datetime.date(2003,12, 31)\n",
    "stock_2000 = pd.DataFrame()\n",
    "\n",
    "stock_2000[ticker] = wb.DataReader(ticker, data_source = \"yahoo\", start = start_date, end = end_date)[\"Adj Close\"]\n",
    "\n",
    "stock_2000 = stock_2000.reset_index()\n",
    "stock_2000"
   ]
  },
  {
   "cell_type": "code",
   "execution_count": 7,
   "metadata": {},
   "outputs": [
    {
     "data": {
      "text/html": [
       "<div>\n",
       "<style scoped>\n",
       "    .dataframe tbody tr th:only-of-type {\n",
       "        vertical-align: middle;\n",
       "    }\n",
       "\n",
       "    .dataframe tbody tr th {\n",
       "        vertical-align: top;\n",
       "    }\n",
       "\n",
       "    .dataframe thead th {\n",
       "        text-align: right;\n",
       "    }\n",
       "</style>\n",
       "<table border=\"1\" class=\"dataframe\">\n",
       "  <thead>\n",
       "    <tr style=\"text-align: right;\">\n",
       "      <th></th>\n",
       "      <th>Date</th>\n",
       "      <th>^GSPC</th>\n",
       "    </tr>\n",
       "  </thead>\n",
       "  <tbody>\n",
       "    <tr>\n",
       "      <th>57</th>\n",
       "      <td>2000-03-24</td>\n",
       "      <td>1527.459961</td>\n",
       "    </tr>\n",
       "  </tbody>\n",
       "</table>\n",
       "</div>"
      ],
      "text/plain": [
       "         Date        ^GSPC\n",
       "57 2000-03-24  1527.459961"
      ]
     },
     "execution_count": 7,
     "metadata": {},
     "output_type": "execute_result"
    }
   ],
   "source": [
    "#finding stock price peak in the 2000s - dataframe\n",
    "max_price = stock_2000[ stock_2000[\"^GSPC\"] ==  stock_2000[\"^GSPC\"].max()]\n",
    "max_price"
   ]
  },
  {
   "cell_type": "code",
   "execution_count": 8,
   "metadata": {},
   "outputs": [
    {
     "data": {
      "text/html": [
       "<div>\n",
       "<style scoped>\n",
       "    .dataframe tbody tr th:only-of-type {\n",
       "        vertical-align: middle;\n",
       "    }\n",
       "\n",
       "    .dataframe tbody tr th {\n",
       "        vertical-align: top;\n",
       "    }\n",
       "\n",
       "    .dataframe thead th {\n",
       "        text-align: right;\n",
       "    }\n",
       "</style>\n",
       "<table border=\"1\" class=\"dataframe\">\n",
       "  <thead>\n",
       "    <tr style=\"text-align: right;\">\n",
       "      <th></th>\n",
       "      <th>Date</th>\n",
       "      <th>^GSPC</th>\n",
       "    </tr>\n",
       "  </thead>\n",
       "  <tbody>\n",
       "    <tr>\n",
       "      <th>694</th>\n",
       "      <td>2002-10-09</td>\n",
       "      <td>776.76001</td>\n",
       "    </tr>\n",
       "  </tbody>\n",
       "</table>\n",
       "</div>"
      ],
      "text/plain": [
       "          Date      ^GSPC\n",
       "694 2002-10-09  776.76001"
      ]
     },
     "execution_count": 8,
     "metadata": {},
     "output_type": "execute_result"
    }
   ],
   "source": [
    "#finding stock price peak in the 2000s- dataframe\n",
    "min_price = stock_2000[stock_2000[\"^GSPC\"] == stock_2000[\"^GSPC\"].min()]\n",
    "min_price"
   ]
  },
  {
   "cell_type": "code",
   "execution_count": 9,
   "metadata": {},
   "outputs": [
    {
     "data": {
      "text/html": [
       "<div>\n",
       "<style scoped>\n",
       "    .dataframe tbody tr th:only-of-type {\n",
       "        vertical-align: middle;\n",
       "    }\n",
       "\n",
       "    .dataframe tbody tr th {\n",
       "        vertical-align: top;\n",
       "    }\n",
       "\n",
       "    .dataframe thead th {\n",
       "        text-align: right;\n",
       "    }\n",
       "</style>\n",
       "<table border=\"1\" class=\"dataframe\">\n",
       "  <thead>\n",
       "    <tr style=\"text-align: right;\">\n",
       "      <th></th>\n",
       "      <th>Date</th>\n",
       "      <th>^GSPC</th>\n",
       "    </tr>\n",
       "  </thead>\n",
       "  <tbody>\n",
       "    <tr>\n",
       "      <th>1895</th>\n",
       "      <td>2007-10-09</td>\n",
       "      <td>1565.150024</td>\n",
       "    </tr>\n",
       "  </tbody>\n",
       "</table>\n",
       "</div>"
      ],
      "text/plain": [
       "           Date        ^GSPC\n",
       "1895 2007-10-09  1565.150024"
      ]
     },
     "execution_count": 9,
     "metadata": {},
     "output_type": "execute_result"
    }
   ],
   "source": [
    "#finding stock price peak in 2008 - dataframe\n",
    "start_date = datetime.date(2000,3,24)\n",
    "end_date = datetime.date(2012,1, 1)\n",
    "stock_2008 = pd.DataFrame()\n",
    "\n",
    "stock_2008[ticker] = wb.DataReader(ticker, data_source = \"yahoo\", start = start_date, end = end_date)[\"Adj Close\"]\n",
    "\n",
    "stock_2008 = stock_2008.reset_index()\n",
    "stock_2008\n",
    "\n",
    "max_price2008 = stock_2008[stock_2008[\"^GSPC\"] ==  stock_2008[\"^GSPC\"].max()]\n",
    "max_price2008"
   ]
  },
  {
   "cell_type": "code",
   "execution_count": 10,
   "metadata": {},
   "outputs": [
    {
     "data": {
      "text/html": [
       "<div>\n",
       "<style scoped>\n",
       "    .dataframe tbody tr th:only-of-type {\n",
       "        vertical-align: middle;\n",
       "    }\n",
       "\n",
       "    .dataframe tbody tr th {\n",
       "        vertical-align: top;\n",
       "    }\n",
       "\n",
       "    .dataframe thead th {\n",
       "        text-align: right;\n",
       "    }\n",
       "</style>\n",
       "<table border=\"1\" class=\"dataframe\">\n",
       "  <thead>\n",
       "    <tr style=\"text-align: right;\">\n",
       "      <th></th>\n",
       "      <th>Date</th>\n",
       "      <th>^GSPC</th>\n",
       "    </tr>\n",
       "  </thead>\n",
       "  <tbody>\n",
       "    <tr>\n",
       "      <th>2250</th>\n",
       "      <td>2009-03-09</td>\n",
       "      <td>676.530029</td>\n",
       "    </tr>\n",
       "  </tbody>\n",
       "</table>\n",
       "</div>"
      ],
      "text/plain": [
       "           Date       ^GSPC\n",
       "2250 2009-03-09  676.530029"
      ]
     },
     "execution_count": 10,
     "metadata": {},
     "output_type": "execute_result"
    }
   ],
   "source": [
    "min_price2008 = stock_2008[stock_2008[\"^GSPC\"] == stock_2008[\"^GSPC\"].min()]\n",
    "min_price2008"
   ]
  },
  {
   "cell_type": "code",
   "execution_count": 11,
   "metadata": {},
   "outputs": [
    {
     "data": {
      "text/html": [
       "<div>\n",
       "<style scoped>\n",
       "    .dataframe tbody tr th:only-of-type {\n",
       "        vertical-align: middle;\n",
       "    }\n",
       "\n",
       "    .dataframe tbody tr th {\n",
       "        vertical-align: top;\n",
       "    }\n",
       "\n",
       "    .dataframe thead th {\n",
       "        text-align: right;\n",
       "    }\n",
       "</style>\n",
       "<table border=\"1\" class=\"dataframe\">\n",
       "  <thead>\n",
       "    <tr style=\"text-align: right;\">\n",
       "      <th></th>\n",
       "      <th>Date</th>\n",
       "      <th>^GSPC</th>\n",
       "    </tr>\n",
       "  </thead>\n",
       "  <tbody>\n",
       "    <tr>\n",
       "      <th>33</th>\n",
       "      <td>2020-02-19</td>\n",
       "      <td>3386.149902</td>\n",
       "    </tr>\n",
       "  </tbody>\n",
       "</table>\n",
       "</div>"
      ],
      "text/plain": [
       "         Date        ^GSPC\n",
       "33 2020-02-19  3386.149902"
      ]
     },
     "execution_count": 11,
     "metadata": {},
     "output_type": "execute_result"
    }
   ],
   "source": [
    "#finding stock price peak in 2020 - dataframe\n",
    "start_date = datetime.date(2019,12,31)\n",
    "end_date = datetime.date(2020,6, 1)\n",
    "stock_2020 = pd.DataFrame()\n",
    "\n",
    "stock_2020[ticker] = wb.DataReader(ticker, data_source = \"yahoo\", start = start_date, end = end_date)[\"Adj Close\"]\n",
    "\n",
    "stock_2020 = stock_2020.reset_index()\n",
    "\n",
    "max_price2020 = stock_2020[stock_2020[\"^GSPC\"] ==  stock_2020[\"^GSPC\"].max()]\n",
    "max_price2020"
   ]
  },
  {
   "cell_type": "code",
   "execution_count": 12,
   "metadata": {},
   "outputs": [
    {
     "data": {
      "text/html": [
       "<div>\n",
       "<style scoped>\n",
       "    .dataframe tbody tr th:only-of-type {\n",
       "        vertical-align: middle;\n",
       "    }\n",
       "\n",
       "    .dataframe tbody tr th {\n",
       "        vertical-align: top;\n",
       "    }\n",
       "\n",
       "    .dataframe thead th {\n",
       "        text-align: right;\n",
       "    }\n",
       "</style>\n",
       "<table border=\"1\" class=\"dataframe\">\n",
       "  <thead>\n",
       "    <tr style=\"text-align: right;\">\n",
       "      <th></th>\n",
       "      <th>Date</th>\n",
       "      <th>^GSPC</th>\n",
       "    </tr>\n",
       "  </thead>\n",
       "  <tbody>\n",
       "    <tr>\n",
       "      <th>56</th>\n",
       "      <td>2020-03-23</td>\n",
       "      <td>2237.399902</td>\n",
       "    </tr>\n",
       "  </tbody>\n",
       "</table>\n",
       "</div>"
      ],
      "text/plain": [
       "         Date        ^GSPC\n",
       "56 2020-03-23  2237.399902"
      ]
     },
     "execution_count": 12,
     "metadata": {},
     "output_type": "execute_result"
    }
   ],
   "source": [
    "min_price2020 = stock_2020[stock_2020[\"^GSPC\"] == stock_2020[\"^GSPC\"].min()]\n",
    "min_price2020"
   ]
  },
  {
   "cell_type": "code",
   "execution_count": 13,
   "metadata": {},
   "outputs": [
    {
     "data": {
      "text/plain": [
       "53500.0"
      ]
     },
     "execution_count": 13,
     "metadata": {},
     "output_type": "execute_result"
    }
   ],
   "source": [
    "#Calculate total fund investment accumulation before crash in 2000s (assume 30 day/month)\n",
    "def fund_acc(start_date, crash_date): \n",
    "    ticker = [\"^GSPC\"]\n",
    "    data = pd.DataFrame()\n",
    "    data[ticker] = wb.DataReader(ticker, data_source = \"yahoo\", start = start_date, end = crash_date)[\"Adj Close\"]\n",
    "    invest_acc = round(len(data) / 30, 0) * 500\n",
    "    return invest_acc\n",
    "\n",
    "fund_acc(\"1990-01-01\", \"2002-10-09\")\n"
   ]
  },
  {
   "cell_type": "code",
   "execution_count": 14,
   "metadata": {},
   "outputs": [
    {
     "data": {
      "text/plain": [
       "1277.0011619085576"
      ]
     },
     "execution_count": 14,
     "metadata": {},
     "output_type": "execute_result"
    }
   ],
   "source": [
    "#investment growth by selling at the peak before crash\n",
    "def selling_return (initial_invest, start_date, peak_date): \n",
    "    ticker = [\"^GSPC\"]\n",
    "    data = pd.DataFrame()\n",
    "    data[ticker] = wb.DataReader(ticker, data_source = \"yahoo\", start = start_date, end = peak_date)[\"Adj Close\"]\n",
    "    daily_ret = (data/data.shift(1) - 1).mean()\n",
    "    total_ret = float(daily_ret * len(data))\n",
    "    selling_return = initial_invest * (1 + total_ret)\n",
    "    return selling_return\n",
    "\n",
    "selling_return(500, \"1990-01-01\", \"2000-03-24\")"
   ]
  },
  {
   "cell_type": "code",
   "execution_count": 15,
   "metadata": {},
   "outputs": [
    {
     "data": {
      "text/plain": [
       "336861.63"
      ]
     },
     "execution_count": 15,
     "metadata": {},
     "output_type": "execute_result"
    }
   ],
   "source": [
    "#investment gain before crash in 2002\n",
    "invest_gain2000 = round(selling_return(500, \"1990-01-01\", \"2000-03-24\"), 2)\n",
    "\n",
    "#investment gain before crash in 2008 (assume buying at the crash with all fund accumulated)\n",
    "fund_acc2000 = fund_acc(\"1990-01-01\", \"2002-10-09\")\n",
    "invest_gain2008 = round(selling_return((invest_gain2000 + fund_acc2000), \"2002-10-09\", \"2007-10-09\"), 2)\n",
    "\n",
    "#investment gain before crash in 2020 (assume buying at the crash with all fund accumulated)\n",
    "fund_acc2008 = fund_acc(\"2002-10-09\", \"2009-03-09\")\n",
    "invest_gain2020 = round(selling_return((invest_gain2008 + fund_acc2008), \"2009-03-09\", \"2020-02-19\"), 2)\n",
    "\n",
    "invest_gain2020"
   ]
  },
  {
   "cell_type": "code",
   "execution_count": 16,
   "metadata": {
    "scrolled": true
   },
   "outputs": [
    {
     "data": {
      "text/html": [
       "<div>\n",
       "<style scoped>\n",
       "    .dataframe tbody tr th:only-of-type {\n",
       "        vertical-align: middle;\n",
       "    }\n",
       "\n",
       "    .dataframe tbody tr th {\n",
       "        vertical-align: top;\n",
       "    }\n",
       "\n",
       "    .dataframe thead th {\n",
       "        text-align: right;\n",
       "    }\n",
       "</style>\n",
       "<table border=\"1\" class=\"dataframe\">\n",
       "  <thead>\n",
       "    <tr style=\"text-align: right;\">\n",
       "      <th></th>\n",
       "      <th>Date</th>\n",
       "      <th>Total Investment (£)</th>\n",
       "    </tr>\n",
       "  </thead>\n",
       "  <tbody>\n",
       "    <tr>\n",
       "      <th>0</th>\n",
       "      <td>1990-01-01</td>\n",
       "      <td>0.00</td>\n",
       "    </tr>\n",
       "    <tr>\n",
       "      <th>1</th>\n",
       "      <td>2000-03-24</td>\n",
       "      <td>1277.00</td>\n",
       "    </tr>\n",
       "    <tr>\n",
       "      <th>2</th>\n",
       "      <td>2007-10-09</td>\n",
       "      <td>95720.02</td>\n",
       "    </tr>\n",
       "    <tr>\n",
       "      <th>3</th>\n",
       "      <td>2020-02-19</td>\n",
       "      <td>336861.63</td>\n",
       "    </tr>\n",
       "  </tbody>\n",
       "</table>\n",
       "</div>"
      ],
      "text/plain": [
       "         Date  Total Investment (£)\n",
       "0  1990-01-01                  0.00\n",
       "1  2000-03-24               1277.00\n",
       "2  2007-10-09              95720.02\n",
       "3  2020-02-19             336861.63"
      ]
     },
     "execution_count": 16,
     "metadata": {},
     "output_type": "execute_result"
    }
   ],
   "source": [
    "date = [\"1990-01-01\", \"2000-03-24\", \"2007-10-09\", \"2020-02-19\"]\n",
    "total_invest = [0, invest_gain2000, invest_gain2008, invest_gain2020]\n",
    "\n",
    "perfect_invest = pd.DataFrame({\"Date\" : date, \n",
    "                              \"Total Investment (£)\" : total_invest})\n",
    "\n",
    "perfect_invest"
   ]
  },
  {
   "cell_type": "code",
   "execution_count": 17,
   "metadata": {},
   "outputs": [
    {
     "data": {
      "text/html": [
       "<div>\n",
       "<style scoped>\n",
       "    .dataframe tbody tr th:only-of-type {\n",
       "        vertical-align: middle;\n",
       "    }\n",
       "\n",
       "    .dataframe tbody tr th {\n",
       "        vertical-align: top;\n",
       "    }\n",
       "\n",
       "    .dataframe thead th {\n",
       "        text-align: right;\n",
       "    }\n",
       "</style>\n",
       "<table border=\"1\" class=\"dataframe\">\n",
       "  <thead>\n",
       "    <tr style=\"text-align: right;\">\n",
       "      <th></th>\n",
       "      <th>Date</th>\n",
       "      <th>Total Investment (£)</th>\n",
       "    </tr>\n",
       "  </thead>\n",
       "  <tbody>\n",
       "    <tr>\n",
       "      <th>0</th>\n",
       "      <td>1990-01-01</td>\n",
       "      <td>0.00</td>\n",
       "    </tr>\n",
       "    <tr>\n",
       "      <th>1</th>\n",
       "      <td>2000-03-24</td>\n",
       "      <td>1277.00</td>\n",
       "    </tr>\n",
       "    <tr>\n",
       "      <th>2</th>\n",
       "      <td>2007-10-09</td>\n",
       "      <td>95720.02</td>\n",
       "    </tr>\n",
       "    <tr>\n",
       "      <th>3</th>\n",
       "      <td>2020-02-19</td>\n",
       "      <td>336861.63</td>\n",
       "    </tr>\n",
       "  </tbody>\n",
       "</table>\n",
       "</div>"
      ],
      "text/plain": [
       "        Date  Total Investment (£)\n",
       "0 1990-01-01                  0.00\n",
       "1 2000-03-24               1277.00\n",
       "2 2007-10-09              95720.02\n",
       "3 2020-02-19             336861.63"
      ]
     },
     "execution_count": 17,
     "metadata": {},
     "output_type": "execute_result"
    }
   ],
   "source": [
    "perfect_invest[\"Date\"]  = pd.to_datetime(perfect_invest[\"Date\"])\n",
    "\n",
    "perfect_invest"
   ]
  },
  {
   "cell_type": "code",
   "execution_count": 21,
   "metadata": {},
   "outputs": [
    {
     "data": {
      "image/png": "[encoded data removed]",
      "text/plain": [
       "<Figure size 1080x576 with 1 Axes>"
      ]
     },
     "metadata": {},
     "output_type": "display_data"
    }
   ],
   "source": [
    "fig, ax = plt.subplots(figsize = (15, 8))\n",
    "ax.plot(monthly_return[\"Date\"], monthly_return[\"Total Investment (£)\"], color = \"black\", label = \"Amateur\")\n",
    "ax.plot(perfect_invest[\"Date\"], perfect_invest[\"Total Investment (£)\"], color = \"red\", marker = \"o\", label = \"Super Psychic Dude\")\n",
    "plt.title(\"Graph showing Total Investment Growth\")\n",
    "plt.xlabel(\"Year\")\n",
    "plt.ylabel(\"Total Investment ($)\")\n",
    "plt.legend()\n",
    "ax.ticklabel_format(axis = \"y\", style = \"plain\")\n",
    "plt.savefig(\"F:/Data Science practice/Blog/Beginner's guide Series/Investment strategy/Investment growth comparison.png\")\n",
    "\n",
    "plt.show()"
   ]
  },
  {
   "cell_type": "code",
   "execution_count": null,
   "metadata": {},
   "outputs": [],
   "source": []
  }
 ],
 "metadata": {
  "kernelspec": {
   "display_name": "Python 3",
   "language": "python",
   "name": "python3"
  },
  "language_info": {
   "codemirror_mode": {
    "name": "ipython",
    "version": 3
   },
   "file_extension": ".py",
   "mimetype": "text/x-python",
   "name": "python",
   "nbconvert_exporter": "python",
   "pygments_lexer": "ipython3",
   "version": "3.7.7"
  }
 },
 "nbformat": 4,
 "nbformat_minor": 4
}
