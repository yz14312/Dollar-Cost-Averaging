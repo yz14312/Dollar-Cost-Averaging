{
 "cells": [
  {
   "cell_type": "code",
   "execution_count": 1,
   "metadata": {},
   "outputs": [],
   "source": [
    "import pandas as pd\n",
    "import numpy as np\n",
    "import matplotlib.pyplot as plt\n",
    "from pandas_datareader import data as wb\n",
    "import datetime\n",
    "import seaborn as sns\n",
    "sns.set()"
   ]
  },
  {
   "cell_type": "code",
   "execution_count": 2,
   "metadata": {},
   "outputs": [],
   "source": [
    "start_date = datetime.date(1990,1,1)\n",
    "end_date = datetime.date(2020,12,31)\n",
    "delta = datetime.timedelta(days = 30) "
   ]
  },
  {
   "cell_type": "code",
   "execution_count": null,
   "metadata": {},
   "outputs": [],
   "source": [
    "ticker = [\"^GSPC\"]\n",
    "monthly_return = pd.DataFrame()\n",
    "investment = 500\n",
    "\n",
    "#Creating a Data frame that takes investment and monthly return into consideration\n",
    "while start_date <= end_date:\n",
    "    data = pd.DataFrame()\n",
    "    new_startdate = start_date\n",
    "    start_date += delta\n",
    "    \n",
    "    #get the stock prices for each 30-day iteration\n",
    "    data[ticker] = wb.DataReader(ticker, data_source = \"yahoo\", start = new_startdate, end = start_date)[\"Adj Close\"]\n",
    "    data.reset_index()\n",
    "\n",
    "    #extract the price of the last day of the month\n",
    "    data1 = data.iloc[len(data) - 1]\n",
    "    price = round(data1[\"^GSPC\"], 2)\n",
    "    \n",
    "    #calculate the monthly return for each iteration\n",
    "    daily_return = data/data.shift(1) - 1\n",
    "    monthly_ret = round(daily_return.mean() * 30 * 100, 2)\n",
    "    \n",
    "    #Consider the return of a £500 monthly investment\n",
    "    total_investment = round(investment * (1 + monthly_ret / 100), 2)\n",
    "    investment  = (500 + total_investment)\n",
    "    \n",
    "    #put everything into monthly_return data frame\n",
    "    data2 = pd.DataFrame({\"Date\" : start_date, \"Price\" : price, \"Monthly Return (%)\" : monthly_ret, \n",
    "                          \"Total Investment (£)\" : total_investment})\n",
    "    monthly_return = monthly_return.append(data2)\n",
    "\n",
    "print(monthly_return)"
   ]
  },
  {
   "cell_type": "code",
   "execution_count": null,
   "metadata": {},
   "outputs": [],
   "source": [
    "monthly_return = monthly_return.reset_index(drop = True)\n",
    "monthly_return.to_csv(\"F:/Data Science practice/Blog/Beginner's guide Series/Investment strategy/Historical Return.csv\")\n",
    "\n",
    "monthly_return"
   ]
  }
 ],
 "metadata": {
  "kernelspec": {
   "display_name": "Python 3",
   "language": "python",
   "name": "python3"
  },
  "language_info": {
   "codemirror_mode": {
    "name": "ipython",
    "version": 3
   },
   "file_extension": ".py",
   "mimetype": "text/x-python",
   "name": "python",
   "nbconvert_exporter": "python",
   "pygments_lexer": "ipython3",
   "version": "3.7.7"
  }
 },
 "nbformat": 4,
 "nbformat_minor": 4
}
